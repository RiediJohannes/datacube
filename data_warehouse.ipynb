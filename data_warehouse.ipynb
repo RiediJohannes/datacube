{
 "cells": [
  {
   "cell_type": "code",
   "execution_count": 4,
   "metadata": {
    "collapsed": true,
    "ExecuteTime": {
     "end_time": "2023-06-19T23:24:39.560328700Z",
     "start_time": "2023-06-19T23:24:39.541327500Z"
    }
   },
   "outputs": [
    {
     "name": "stdout",
     "output_type": "stream",
     "text": [
      "\n",
      "            Datacube [3x3x2]:\n",
      "            \tx: ['Kuchen', 'Croissant', 'Muffin']\n",
      "            \ty: ['BWL', 'WI', 'W&R']\n",
      "            \tz: ['Montag', 'Dienstag']             \n",
      "        \n"
     ]
    },
    {
     "data": {
      "text/plain": "26.7"
     },
     "execution_count": 4,
     "metadata": {},
     "output_type": "execute_result"
    }
   ],
   "source": [
    "from datacube import *\n",
    "\n",
    "# Datenreihen\n",
    "product = [\"Muffin\", \"Croissant\", \"Kuchen\"]\n",
    "weekday = [\"Montag\", \"Dienstag\"]\n",
    "course = [\"BWL\", \"WI\", \"W&R\"]\n",
    "\n",
    "product_order = [\"Kuchen\", \"Croissant\", \"Muffin\"]\n",
    "\n",
    "cube = DataCube(x = product_order, y = course, z = weekday)\n",
    "\n",
    "# product / course table\n",
    "table = DataTable(rows = product, cols = course)\n",
    "table.values = [\n",
    "    [50, 15, 20],\n",
    "    [60, 10, 20],\n",
    "    [30, 10, 10]\n",
    "]\n",
    "cube.add_data(table)\n",
    "\n",
    "# weekday / course table\n",
    "table = DataTable(rows = weekday, cols = course)\n",
    "table.values = [\n",
    "    [80, 20, 30],\n",
    "    [60, 15, 20]\n",
    "]\n",
    "cube.add_data(table)\n",
    "\n",
    "# weekday / product table\n",
    "table = DataTable(rows = weekday, cols = product)\n",
    "table.values = [\n",
    "    [50, 50, 30],\n",
    "    [35, 40, 20]\n",
    "]\n",
    "cube.add_data(table)\n",
    "\n",
    "\n",
    "print(str(cube))\n",
    "cube.cell(0, 0, 1)"
   ]
  }
 ],
 "metadata": {
  "kernelspec": {
   "display_name": "Python 3",
   "language": "python",
   "name": "python3"
  },
  "language_info": {
   "codemirror_mode": {
    "name": "ipython",
    "version": 2
   },
   "file_extension": ".py",
   "mimetype": "text/x-python",
   "name": "python",
   "nbconvert_exporter": "python",
   "pygments_lexer": "ipython2",
   "version": "2.7.6"
  }
 },
 "nbformat": 4,
 "nbformat_minor": 0
}
