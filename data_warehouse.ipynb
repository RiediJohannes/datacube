{
 "cells": [
  {
   "cell_type": "code",
   "execution_count": 1,
   "metadata": {
    "collapsed": true,
    "ExecuteTime": {
     "end_time": "2023-06-20T18:18:17.330862800Z",
     "start_time": "2023-06-20T18:18:17.300860200Z"
    }
   },
   "outputs": [
    {
     "name": "stdout",
     "output_type": "stream",
     "text": [
      "\n",
      "            Datacube [3x3x2]:\n",
      "            \tx: ['BWL', 'WI', 'W&R']\n",
      "            \ty: ['Kuchen', 'Croissant', 'Muffin']\n",
      "            \tz: ['Montag', 'Dienstag']             \n",
      "        \n"
     ]
    },
    {
     "data": {
      "text/plain": "(46.7, ('BWL', 'Kuchen', 'Montag'))"
     },
     "execution_count": 1,
     "metadata": {},
     "output_type": "execute_result"
    }
   ],
   "source": [
    "from datacube import *\n",
    "\n",
    "# Datenreihen\n",
    "product = [\"Muffin\", \"Croissant\", \"Kuchen\"]\n",
    "weekday = [\"Montag\", \"Dienstag\"]\n",
    "course = [\"BWL\", \"WI\", \"W&R\"]\n",
    "\n",
    "# the order of dimension items on an axis may be different from their order in the data table\n",
    "product_axis = [\"Kuchen\", \"Croissant\", \"Muffin\"]\n",
    "\n",
    "# define the data cube -> dimensions, axes and axis item order\n",
    "cube = DataCube(x = course, y = product_axis, z = weekday)\n",
    "\n",
    "# product / course table\n",
    "table = DataTable(rows = product, cols = course)\n",
    "table.values = [\n",
    "    [50, 15, 20],\n",
    "    [60, 10, 20],\n",
    "    [30, 10, 10]\n",
    "]\n",
    "cube.add_data(table)\n",
    "\n",
    "# weekday / course table\n",
    "table = DataTable(rows = weekday, cols = course)\n",
    "table.values = [\n",
    "    [80, 20, 30],\n",
    "    [60, 15, 20]\n",
    "]\n",
    "cube.add_data(table)\n",
    "\n",
    "# weekday / product table\n",
    "table = DataTable(rows = weekday, cols = product)\n",
    "table.values = [\n",
    "    [50, 50, 30],\n",
    "    [35, 40, 20]\n",
    "]\n",
    "cube.add_data(table)\n",
    "\n",
    "\n",
    "print(str(cube))\n",
    "cube.cell(0, 0, 0, verbose = True)"
   ]
  },
  {
   "cell_type": "code",
   "execution_count": 2,
   "outputs": [
    {
     "name": "stdout",
     "output_type": "stream",
     "text": [
      "              ++ z-level: Montag ++\n",
      "              ----------------------\n",
      "      Kuchen  | 46.7 | 20.0 | 23.3 |\n",
      "              ----------------------\n",
      "   Croissant  | 63.3 | 26.7 | 33.3 |\n",
      "              ----------------------\n",
      "      Muffin  | 60.0 | 28.3 | 33.3 |\n",
      "              ----------------------\n",
      "                BWL     WI    W&R  \n"
     ]
    },
    {
     "data": {
      "text/plain": "[46.7, 20.0, 23.3, 63.3, 26.7, 33.3, 60.0, 28.3, 33.3]"
     },
     "execution_count": 2,
     "metadata": {},
     "output_type": "execute_result"
    }
   ],
   "source": [
    "# Vorderseite\n",
    "cube.show_front(0)"
   ],
   "metadata": {
    "collapsed": false,
    "ExecuteTime": {
     "end_time": "2023-06-20T18:18:17.389864700Z",
     "start_time": "2023-06-20T18:18:17.332862Z"
    }
   }
  },
  {
   "cell_type": "code",
   "execution_count": 3,
   "outputs": [
    {
     "name": "stdout",
     "output_type": "stream",
     "text": [
      "              ++ z-level: Dienstag ++\n",
      "              ----------------------\n",
      "      Kuchen  | 36.7 | 15.0 | 16.7 |\n",
      "              ----------------------\n",
      "   Croissant  | 53.3 | 21.7 | 26.7 |\n",
      "              ----------------------\n",
      "      Muffin  | 48.3 | 21.7 | 25.0 |\n",
      "              ----------------------\n",
      "                BWL     WI    W&R  \n"
     ]
    },
    {
     "data": {
      "text/plain": "[36.7, 15.0, 16.7, 53.3, 21.7, 26.7, 48.3, 21.7, 25.0]"
     },
     "execution_count": 3,
     "metadata": {},
     "output_type": "execute_result"
    }
   ],
   "source": [
    "# Rückseite\n",
    "cube.show_front(1)"
   ],
   "metadata": {
    "collapsed": false,
    "ExecuteTime": {
     "end_time": "2023-06-20T18:18:17.390864200Z",
     "start_time": "2023-06-20T18:18:17.350862900Z"
    }
   }
  }
 ],
 "metadata": {
  "kernelspec": {
   "display_name": "Python 3",
   "language": "python",
   "name": "python3"
  },
  "language_info": {
   "codemirror_mode": {
    "name": "ipython",
    "version": 2
   },
   "file_extension": ".py",
   "mimetype": "text/x-python",
   "name": "python",
   "nbconvert_exporter": "python",
   "pygments_lexer": "ipython2",
   "version": "2.7.6"
  }
 },
 "nbformat": 4,
 "nbformat_minor": 0
}
