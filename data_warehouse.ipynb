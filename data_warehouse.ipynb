{
 "cells": [
  {
   "cell_type": "code",
   "execution_count": 1,
   "metadata": {
    "collapsed": true,
    "ExecuteTime": {
     "end_time": "2023-06-20T23:21:17.325024500Z",
     "start_time": "2023-06-20T23:21:17.285022100Z"
    }
   },
   "outputs": [
    {
     "name": "stdout",
     "output_type": "stream",
     "text": [
      "\n",
      "            Datacube [3x3x2]:\n",
      "            \tx: ['BWL', 'WI', 'W&R']\n",
      "            \ty: ['Kuchen', 'Croissant', 'Muffin']\n",
      "            \tz: ['Montag', 'Dienstag']             \n",
      "        \n"
     ]
    },
    {
     "data": {
      "text/plain": "(46.7, ('BWL', 'Kuchen', 'Montag'))"
     },
     "execution_count": 1,
     "metadata": {},
     "output_type": "execute_result"
    }
   ],
   "source": [
    "from datacube import *\n",
    "\n",
    "# Datenreihen\n",
    "product = [\"Muffin\", \"Croissant\", \"Kuchen\"]\n",
    "weekday = [\"Montag\", \"Dienstag\"]\n",
    "course = [\"BWL\", \"WI\", \"W&R\"]\n",
    "\n",
    "# the order of dimension items on an axis may be different from their order in the data table\n",
    "product_axis = [\"Kuchen\", \"Croissant\", \"Muffin\"]\n",
    "\n",
    "# define the data cube -> dimensions, axes and axis item order\n",
    "cube = DataCube(x = course, y = product_axis, z = weekday)\n",
    "\n",
    "# product / course table\n",
    "table = DataTable(rows = product, cols = course)\n",
    "table.values = [\n",
    "    [50, 15, 20],\n",
    "    [60, 10, 20],\n",
    "    [30, 10, 10]\n",
    "]\n",
    "cube.add_data(table)\n",
    "\n",
    "# weekday / course table\n",
    "table = DataTable(rows = weekday, cols = course)\n",
    "table.values = [\n",
    "    [80, 20, 30],\n",
    "    [60, 15, 20]\n",
    "]\n",
    "cube.add_data(table)\n",
    "\n",
    "# weekday / product table\n",
    "table = DataTable(rows = weekday, cols = product)\n",
    "table.values = [\n",
    "    [50, 50, 30],\n",
    "    [35, 40, 20]\n",
    "]\n",
    "cube.add_data(table)\n",
    "\n",
    "\n",
    "print(cube)\n",
    "cube.cell(0, 0, 0, verbose = True)"
   ]
  },
  {
   "cell_type": "code",
   "execution_count": 2,
   "outputs": [
    {
     "name": "stdout",
     "output_type": "stream",
     "text": [
      "                ++ z-level: Montag ++\n",
      "                ----------------------\n",
      "        Kuchen  | 46.7 | 20.0 | 23.3 |\n",
      "                ----------------------\n",
      "     Croissant  | 63.3 | 26.7 | 33.3 |\n",
      "                ----------------------\n",
      "        Muffin  | 60.0 | 28.3 | 33.3 |\n",
      "                ----------------------\n",
      "                  BWL     WI    W&R  \n",
      "\n",
      "                ++ z-level: Dienstag ++\n",
      "                ----------------------\n",
      "        Kuchen  | 36.7 | 15.0 | 16.7 |\n",
      "                ----------------------\n",
      "     Croissant  | 53.3 | 21.7 | 26.7 |\n",
      "                ----------------------\n",
      "        Muffin  | 48.3 | 21.7 | 25.0 |\n",
      "                ----------------------\n",
      "                  BWL     WI    W&R  \n",
      "\n"
     ]
    }
   ],
   "source": [
    "# loop through every z plane and print all values\n",
    "for i, _ in enumerate(cube.z_labels):\n",
    "    cube.show_front(i)\n",
    "    print()"
   ],
   "metadata": {
    "collapsed": false,
    "ExecuteTime": {
     "end_time": "2023-06-20T23:21:17.342025Z",
     "start_time": "2023-06-20T23:21:17.332026800Z"
    }
   }
  },
  {
   "cell_type": "code",
   "execution_count": 3,
   "outputs": [
    {
     "name": "stdout",
     "output_type": "stream",
     "text": [
      "\n",
      "            Datacube [3x3x1]:\n",
      "            \tx: ['BWL', 'WI', 'W&R']\n",
      "            \ty: ['Kuchen', 'Croissant', 'Muffin']\n",
      "            \tz: ['Dienstag']             \n",
      "        \n",
      "                ++ z-level: Dienstag ++\n",
      "                ----------------------\n",
      "        Kuchen  | 36.7 | 15.0 | 16.7 |\n",
      "                ----------------------\n",
      "     Croissant  | 53.3 | 21.7 | 26.7 |\n",
      "                ----------------------\n",
      "        Muffin  | 48.3 | 21.7 | 25.0 |\n",
      "                ----------------------\n",
      "                  BWL     WI    W&R  \n"
     ]
    },
    {
     "data": {
      "text/plain": "[36.7, 15.0, 16.7, 53.3, 21.7, 26.7, 48.3, 21.7, 25.0]"
     },
     "execution_count": 3,
     "metadata": {},
     "output_type": "execute_result"
    }
   ],
   "source": [
    "# get a slice of the cube\n",
    "sliced = cube.slice(Axis.Z, 1)\n",
    "print(sliced)\n",
    "sliced.show_front()"
   ],
   "metadata": {
    "collapsed": false,
    "ExecuteTime": {
     "end_time": "2023-06-20T23:21:17.417034200Z",
     "start_time": "2023-06-20T23:21:17.344027800Z"
    }
   }
  },
  {
   "cell_type": "code",
   "execution_count": 4,
   "outputs": [
    {
     "name": "stdout",
     "output_type": "stream",
     "text": [
      "\n",
      "            Datacube [2x2x1]:\n",
      "            \tx: ['BWL', 'WI']\n",
      "            \ty: ['Muffin', 'Croissant']\n",
      "            \tz: ['Montag']             \n",
      "        \n",
      "                ++ z-level: Montag ++\n",
      "                ---------------\n",
      "        Muffin  | 60.0 | 28.3 |\n",
      "                ---------------\n",
      "     Croissant  | 63.3 | 26.7 |\n",
      "                ---------------\n",
      "                  BWL     WI  \n"
     ]
    },
    {
     "data": {
      "text/plain": "[60.0, 28.3, 63.3, 26.7]"
     },
     "execution_count": 4,
     "metadata": {},
     "output_type": "execute_result"
    }
   ],
   "source": [
    "diced = cube.dice(['BWL', 'WI'], ['Muffin', 'Croissant'], ['Montag'])\n",
    "print(diced)\n",
    "diced.show_front()"
   ],
   "metadata": {
    "collapsed": false,
    "ExecuteTime": {
     "end_time": "2023-06-20T23:21:17.418030600Z",
     "start_time": "2023-06-20T23:21:17.365028400Z"
    }
   }
  },
  {
   "cell_type": "code",
   "execution_count": 7,
   "outputs": [
    {
     "name": "stdout",
     "output_type": "stream",
     "text": [
      "                ++ z-level: BWL ++\n",
      "                ---------------\n",
      "        Kuchen  | 36.7 | 46.7 |\n",
      "                ---------------\n",
      "     Croissant  | 53.3 | 63.3 |\n",
      "                ---------------\n",
      "        Muffin  | 48.3 | 60.0 |\n",
      "                ---------------\n",
      "                 Dienst Montag\n"
     ]
    },
    {
     "data": {
      "text/plain": "[36.7, 46.7, 53.3, 63.3, 48.3, 60.0]"
     },
     "execution_count": 7,
     "metadata": {},
     "output_type": "execute_result"
    }
   ],
   "source": [
    "# IMPORTANT: Definition of \"clockwise\":\n",
    "# If you imagine the rotation axis as a screw with the tip of the arrow\n",
    "# being the pointy end of the screw, then clockwise is the direction you\n",
    "# turn the screw to drive it into the wall.\n",
    "rotated = cube.rotate(Axis.Y, True)\n",
    "rotated.show_front()"
   ],
   "metadata": {
    "collapsed": false,
    "ExecuteTime": {
     "end_time": "2023-06-20T23:22:09.790507100Z",
     "start_time": "2023-06-20T23:22:09.782512200Z"
    }
   }
  }
 ],
 "metadata": {
  "kernelspec": {
   "display_name": "Python 3",
   "language": "python",
   "name": "python3"
  },
  "language_info": {
   "codemirror_mode": {
    "name": "ipython",
    "version": 2
   },
   "file_extension": ".py",
   "mimetype": "text/x-python",
   "name": "python",
   "nbconvert_exporter": "python",
   "pygments_lexer": "ipython2",
   "version": "2.7.6"
  }
 },
 "nbformat": 4,
 "nbformat_minor": 0
}
